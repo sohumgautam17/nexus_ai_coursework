{
 "cells": [
  {
   "cell_type": "markdown",
   "metadata": {
    "colab_type": "text",
    "id": "view-in-github"
   },
   "source": [
    "<a href=\"https://colab.research.google.com/github/sohumgautam17/nexus_ai_coursework/blob/main/Multi_Layer_Perception_Master.ipynb\" target=\"_parent\"><img src=\"https://colab.research.google.com/assets/colab-badge.svg\" alt=\"Open In Colab\"/></a>"
   ]
  },
  {
   "cell_type": "markdown",
   "metadata": {
    "id": "ae2tmD4w38OP"
   },
   "source": [
    "#Import Statements\n",
    "We need to import all the libraries we will be using for our PyTorch-based neural network implementation:\n",
    "\n",
    ">First, we import `torch`, which is the core PyTorch library. This is our fundamental package for deep learning, providing the foundation for all tensor operations and computations we'll perform.\n",
    "\n",
    ">From PyTorch, we specifically import `nn` (neural networks). This module contains all the building blocks we need to create neural networks, including layers, activation functions, and loss functions, etc.\n",
    "\n",
    ">`torchvision` is imported along with its submodules: datasets and transforms. This package is essential for computer vision tasks - datasets gives us access to common datasets like MNIST or CIFAR-10, while transforms helps us preprocess our images with operations like converting them to tensors.\n",
    "\n",
    ">Finally, we import `matplotlib` for creating visualizations. We import it twice - once as plt and once with specific plotting functions - to ensure we have access to all plotting capabilities.\n",
    "\n",
    "\n",
    "###We will cover other imports as we go\n",
    "\n",
    "The last line prints our PyTorch version, which is useful for documentation and reproducibility purposes.\n",
    "\n",
    "\n",
    "\n"
   ]
  },
  {
   "cell_type": "code",
   "execution_count": null,
   "metadata": {
    "colab": {
     "base_uri": "https://localhost:8080/"
    },
    "id": "foQWb3oScdnk",
    "outputId": "90e3e04f-b7b2-4560-d89a-3341aabaf85d"
   },
   "outputs": [
    {
     "name": "stdout",
     "output_type": "stream",
     "text": [
      "2.5.1+cu121\n"
     ]
    }
   ],
   "source": [
    "import torch\n",
    "from torch import nn # This imports the neural network library (All the features we need are here)\n",
    "\n",
    "import torchvision\n",
    "from torchvision import datasets\n",
    "from torchvision.transforms import ToTensor\n",
    "from torch.utils.data import DataLoader, Subset, Dataset\n",
    "\n",
    "from torchsummary import summary\n",
    "from tqdm import tqdm\n",
    "\n",
    "import matplotlib as plt\n",
    "import matplotlib.pyplot as plt\n",
    "import numpy as np\n",
    "\n",
    "print(torch.__version__)"
   ]
  },
  {
   "cell_type": "markdown",
   "metadata": {
    "id": "H3zW3Yqm7RQs"
   },
   "source": [
    "# Insert Infographic for the DL Workflow\n"
   ]
  },
  {
   "cell_type": "markdown",
   "metadata": {
    "id": "oTfh3D_E-lk9"
   },
   "source": []
  },
  {
   "cell_type": "markdown",
   "metadata": {
    "id": "8k9EuOVV-9PT"
   },
   "source": [
    "#Loading the Fasion MNist Dataset from PyTorch torchvision (Step 1)\n",
    "The first step of the project is to load the data we want to use\n",
    "Fashion-MNIST is a modern alternative to the traditional MNIST dataset, created by Zalando's research team. Here are its key characteristics:\n",
    "\n",
    "1. The dataset consists of `70,000` grayscale images of clothing items and accessories:\n",
    ">60,000 training images\n",
    ">10,000 test images\n",
    "\n",
    "2. Each image is 28x28 pixels in grayscale format, making them relatively small and manageable for training\n",
    "\n",
    "3. The dataset contains 10 different classes of fashion items, labeled from 0 to 9:\n",
    ">0: T-shirt/top;\n",
    ">1: Trouser;\n",
    ">2: Pullover;\n",
    ">3: Dress;\n",
    ">4: Coat;\n",
    ">5: Sandal;\n",
    ">6: Shirt;\n",
    ">7: Sneaker;\n",
    ">8: Bag;\n",
    ">9: Ankle boot\n",
    "\n",
    "4. Each class has exactly 6,000 training images and 1,000 test images, making it a perfectly balanced dataset\n",
    "\n",
    "For more info visit: https://github.com/zalandoresearch/fashion-mnist"
   ]
  },
  {
   "cell_type": "markdown",
   "metadata": {
    "id": "6x5FuXut-ug8"
   },
   "source": [
    "![An Image](https://datasets.activeloop.ai/wp-content/uploads/2022/09/Fashion-MNIST-dataset-Activeloop-Platform-visualization-image.webp)"
   ]
  },
  {
   "cell_type": "code",
   "execution_count": null,
   "metadata": {
    "colab": {
     "base_uri": "https://localhost:8080/"
    },
    "id": "kWGWvNK8cox-",
    "outputId": "0f8cba34-2eca-4aae-940e-a2c63ac6219a"
   },
   "outputs": [
    {
     "name": "stdout",
     "output_type": "stream",
     "text": [
      "Downloading http://fashion-mnist.s3-website.eu-central-1.amazonaws.com/train-images-idx3-ubyte.gz\n",
      "Downloading http://fashion-mnist.s3-website.eu-central-1.amazonaws.com/train-images-idx3-ubyte.gz to data/FashionMNIST/raw/train-images-idx3-ubyte.gz\n"
     ]
    },
    {
     "name": "stderr",
     "output_type": "stream",
     "text": [
      "100%|██████████| 26.4M/26.4M [00:02<00:00, 12.0MB/s]\n"
     ]
    },
    {
     "name": "stdout",
     "output_type": "stream",
     "text": [
      "Extracting data/FashionMNIST/raw/train-images-idx3-ubyte.gz to data/FashionMNIST/raw\n",
      "\n",
      "Downloading http://fashion-mnist.s3-website.eu-central-1.amazonaws.com/train-labels-idx1-ubyte.gz\n",
      "Downloading http://fashion-mnist.s3-website.eu-central-1.amazonaws.com/train-labels-idx1-ubyte.gz to data/FashionMNIST/raw/train-labels-idx1-ubyte.gz\n"
     ]
    },
    {
     "name": "stderr",
     "output_type": "stream",
     "text": [
      "100%|██████████| 29.5k/29.5k [00:00<00:00, 199kB/s]\n"
     ]
    },
    {
     "name": "stdout",
     "output_type": "stream",
     "text": [
      "Extracting data/FashionMNIST/raw/train-labels-idx1-ubyte.gz to data/FashionMNIST/raw\n",
      "\n",
      "Downloading http://fashion-mnist.s3-website.eu-central-1.amazonaws.com/t10k-images-idx3-ubyte.gz\n",
      "Downloading http://fashion-mnist.s3-website.eu-central-1.amazonaws.com/t10k-images-idx3-ubyte.gz to data/FashionMNIST/raw/t10k-images-idx3-ubyte.gz\n"
     ]
    },
    {
     "name": "stderr",
     "output_type": "stream",
     "text": [
      "100%|██████████| 4.42M/4.42M [00:01<00:00, 3.77MB/s]\n"
     ]
    },
    {
     "name": "stdout",
     "output_type": "stream",
     "text": [
      "Extracting data/FashionMNIST/raw/t10k-images-idx3-ubyte.gz to data/FashionMNIST/raw\n",
      "\n",
      "Downloading http://fashion-mnist.s3-website.eu-central-1.amazonaws.com/t10k-labels-idx1-ubyte.gz\n",
      "Downloading http://fashion-mnist.s3-website.eu-central-1.amazonaws.com/t10k-labels-idx1-ubyte.gz to data/FashionMNIST/raw/t10k-labels-idx1-ubyte.gz\n"
     ]
    },
    {
     "name": "stderr",
     "output_type": "stream",
     "text": [
      "100%|██████████| 5.15k/5.15k [00:00<00:00, 4.06MB/s]\n"
     ]
    },
    {
     "name": "stdout",
     "output_type": "stream",
     "text": [
      "Extracting data/FashionMNIST/raw/t10k-labels-idx1-ubyte.gz to data/FashionMNIST/raw\n",
      "\n"
     ]
    }
   ],
   "source": [
    "train_data = datasets.FashionMNIST(\n",
    "    root='data',\n",
    "    train= True,\n",
    "    download=True,\n",
    "    transform=ToTensor(), # form image PIL format to Torch tensor\n",
    "    target_transform=None, # for labels\n",
    "  )\n",
    "\n",
    "test_data = datasets.FashionMNIST(\n",
    "    root='data',\n",
    "    train=False,\n",
    "    download=True,\n",
    "    transform=ToTensor(),\n",
    "    target_transform=None,\n",
    "  )"
   ]
  },
  {
   "cell_type": "markdown",
   "metadata": {
    "id": "4axM9MhGoCX3"
   },
   "source": [
    "# Inspect the dataset (Step 2)\n"
   ]
  },
  {
   "cell_type": "code",
   "execution_count": null,
   "metadata": {
    "colab": {
     "base_uri": "https://localhost:8080/"
    },
    "id": "SZ_1ghXocpHG",
    "outputId": "4947f6bf-902e-4c9d-905e-eb438d805820"
   },
   "outputs": [
    {
     "name": "stdout",
     "output_type": "stream",
     "text": [
      "Length of the train dataset: 60000 | Shape of train data torch.Size([60000, 28, 28])\n",
      "Length of the train dataset: 10000 | Shape of train data torch.Size([10000, 28, 28])\n"
     ]
    }
   ],
   "source": [
    "print(f'Length of the train dataset: {len(train_data)} | Shape of train data {train_data.data.shape}')\n",
    "print(f'Length of the train dataset: {len(test_data)} | Shape of train data {test_data.data.shape}')"
   ]
  },
  {
   "cell_type": "code",
   "execution_count": null,
   "metadata": {
    "colab": {
     "base_uri": "https://localhost:8080/"
    },
    "id": "s1zGFxeBcpFC",
    "outputId": "60ab3030-8400-4a9f-c722-5d86370bf429"
   },
   "outputs": [
    {
     "name": "stdout",
     "output_type": "stream",
     "text": [
      "There are 10 classes (clothing items) in the dataset\n",
      "These are the classes: ['T-shirt/top', 'Trouser', 'Pullover', 'Dress', 'Coat', 'Sandal', 'Shirt', 'Sneaker', 'Bag', 'Ankle boot']\n"
     ]
    }
   ],
   "source": [
    "print(f'There are {len(train_data.classes)} classes (clothing items) in the dataset')\n",
    "print(f'These are the classes: {train_data.classes}')"
   ]
  },
  {
   "cell_type": "markdown",
   "metadata": {
    "id": "Hu5qEgJWoi_q"
   },
   "source": [
    "The train dataset is a list (60000 items) of tuples (Image, class/label)\n",
    "> SO... the first 0 indexes the 1st tuple out of 60000 and the 2nd 0 indexes the image (If you index 1 you will get the class number)"
   ]
  },
  {
   "cell_type": "code",
   "execution_count": null,
   "metadata": {
    "colab": {
     "base_uri": "https://localhost:8080/"
    },
    "id": "16u-Llrrn5eg",
    "outputId": "802a7b62-0593-4124-c4db-11a5b9c6b557"
   },
   "outputs": [
    {
     "name": "stdout",
     "output_type": "stream",
     "text": [
      "Shape of the first image: torch.Size([1, 28, 28])\n",
      "The class of the first image: 9\n"
     ]
    }
   ],
   "source": [
    "print(f'Shape of the first image: {train_data[0][0].shape}') # The first zero indexes the tuple, the next indexes the image in the tuple\n",
    "print(f'The class of the first image: {train_data[0][1]}')"
   ]
  },
  {
   "cell_type": "markdown",
   "metadata": {
    "id": "TlF6IBxCAida"
   },
   "source": [
    "##Visualize"
   ]
  },
  {
   "cell_type": "code",
   "execution_count": null,
   "metadata": {
    "colab": {
     "base_uri": "https://localhost:8080/",
     "height": 452
    },
    "id": "aKl9CvlaoSJi",
    "outputId": "d3c3d86e-ceb6-4c32-df51-3b507ef488ff"
   },
   "outputs": [
    {
     "data": {
      "image/png": "[encoded data removed]",
      "text/plain": [
       "<Figure size 640x480 with 1 Axes>"
      ]
     },
     "metadata": {},
     "output_type": "display_data"
    }
   ],
   "source": [
    "image_num = 9233 #@param {type:\"raw\"}\n",
    "plt.imshow(train_data[image_num][0].squeeze(0), cmap='gray') # Visuzlizing grey scale images --> matplotlib takes (H x W), so we need to get rid of the 1 in (1, 28, 28) to make it (28, 28)\n",
    "plt.title(f'Class: {train_data[image_num][1]}; {train_data.classes[train_data[image_num][1]]}')\n",
    "plt.show()"
   ]
  },
  {
   "cell_type": "markdown",
   "metadata": {
    "id": "ckbBkIHACIJ7"
   },
   "source": [
    "# Building the Model (Step 3)\n",
    "\n",
    "\n",
    "Nice visualization tool: https://alexlenail.me/NN-SVG/index.html\n"
   ]
  },
  {
   "cell_type": "markdown",
   "metadata": {
    "id": "f-RmRFJUGgX5"
   },
   "source": [
    "![An Image](https://cdn.botpenguin.com/assets/website/Deep_Neural_Network_2b9d9075e9.webp)"
   ]
  },
  {
   "cell_type": "code",
   "execution_count": null,
   "metadata": {
    "id": "mT8fh2KlAqF0"
   },
   "outputs": [],
   "source": [
    "class MultiLayerPerceptron(nn.Module):\n",
    "  def __init__(self, input_features=784, output=10):\n",
    "    super().__init__()\n",
    "    self.layer_1 = nn.Linear(in_features=input_features, out_features=256)\n",
    "    self.layer_2 = nn.Linear(in_features=256, out_features=128)\n",
    "    self.layer_3 = nn.Linear(in_features=128, out_features=32)\n",
    "    self.output = nn.Linear(in_features=32, out_features=output)\n",
    "\n",
    "  def forward(self, x):\n",
    "    x = self.relu(self.layer_1(x))\n",
    "    x = self.relu(self.layer_2(x))\n",
    "    x = self.relu(self.layer_3(x))\n",
    "    x = self.output(x)\n",
    "    return x"
   ]
  },
  {
   "cell_type": "markdown",
   "metadata": {
    "id": "dxhndsFUC9Y7"
   },
   "source": [
    "## An easier way to do this is by using the Sequential API\n",
    "This way in the forward function we only have to call self.(name_of_layers) attribute"
   ]
  },
  {
   "cell_type": "code",
   "execution_count": null,
   "metadata": {
    "id": "p23nMfo2C8yS"
   },
   "outputs": [],
   "source": [
    "class MultiLayerPerceptron(nn.Module):\n",
    "    def __init__(self, input_features=784, output=10):\n",
    "        super().__init__()\n",
    "        self.layers = nn.Sequential(\n",
    "            nn.Flatten(),\n",
    "            nn.Linear(input_features, 256),\n",
    "            nn.Linear(256, 128),\n",
    "            nn.Linear(128, 32),\n",
    "            nn.Linear(32, output)\n",
    "        )\n",
    "\n",
    "    def forward(self, x):\n",
    "        return self.layers(x)\n",
    "\n",
    "\n",
    "model = MultiLayerPerceptron()"
   ]
  },
  {
   "cell_type": "code",
   "execution_count": null,
   "metadata": {
    "colab": {
     "base_uri": "https://localhost:8080/"
    },
    "id": "lSacI2Q0EB_C",
    "outputId": "2f890eed-43c1-4daa-acec-172d98f16643"
   },
   "outputs": [
    {
     "name": "stdout",
     "output_type": "stream",
     "text": [
      "----------------------------------------------------------------\n",
      "        Layer (type)               Output Shape         Param #\n",
      "================================================================\n",
      "           Flatten-1                  [-1, 784]               0\n",
      "            Linear-2                  [-1, 256]         200,960\n",
      "            Linear-3                  [-1, 128]          32,896\n",
      "            Linear-4                   [-1, 32]           4,128\n",
      "            Linear-5                   [-1, 10]             330\n",
      "================================================================\n",
      "Total params: 238,314\n",
      "Trainable params: 238,314\n",
      "Non-trainable params: 0\n",
      "----------------------------------------------------------------\n",
      "Input size (MB): 0.00\n",
      "Forward/backward pass size (MB): 0.01\n",
      "Params size (MB): 0.91\n",
      "Estimated Total Size (MB): 0.92\n",
      "----------------------------------------------------------------\n"
     ]
    }
   ],
   "source": [
    "summary(model, input_size=(1, 28, 28)) # We enter 784 because when we flatten the 28x28 image we get 784 pixel values"
   ]
  },
  {
   "cell_type": "markdown",
   "metadata": {
    "id": "G5w5BJX2Il3g"
   },
   "source": [
    "#Training the Model\n",
    "1. Take the train_data as input (This includes the image and the class label)\n",
    "2. Make a Prediction with the Model\n",
    "3. See how right/wrong the prediction was w/ the loss function\n",
    "4. Update the model parameters to do better next time"
   ]
  },
  {
   "cell_type": "markdown",
   "metadata": {
    "id": "YkSrtoa-L0tP"
   },
   "source": [
    "Feeding all 60,000 training images into our model at once would be like trying to eat an entire pizza in one bite - it's overwhelming and inefficient. Instead, we use DataLoader to break our data into manageable \"bites\" (batches) of 32 images each:"
   ]
  },
  {
   "cell_type": "code",
   "execution_count": null,
   "metadata": {
    "id": "5WBtxzfJLlhv"
   },
   "outputs": [],
   "source": [
    "train_dataloader = DataLoader(train_data, batch_size=32, shuffle=True)\n",
    "test_dataloader = DataLoader(test_data, batch_size=32, shuffle=False)"
   ]
  },
  {
   "cell_type": "code",
   "execution_count": null,
   "metadata": {
    "colab": {
     "base_uri": "https://localhost:8080/"
    },
    "id": "iRQ-p5XeL_xX",
    "outputId": "882e2ab4-d2e8-4b0e-9881-a4092d25c08b"
   },
   "outputs": [
    {
     "name": "stdout",
     "output_type": "stream",
     "text": [
      "Shape of the images: torch.Size([32, 1, 28, 28])\n",
      "Shape of the labels: torch.Size([32])\n",
      "Number of batches is: 1875\n"
     ]
    }
   ],
   "source": [
    "images, labels = next(iter(train_dataloader))\n",
    "print(f'Shape of the images: {images.shape}')\n",
    "print(f'Shape of the labels: {labels.shape}')\n",
    "print(f'Number of batches is: {len(iter(train_dataloader))}') # 60 x 1875 = 60000"
   ]
  },
  {
   "cell_type": "code",
   "execution_count": null,
   "metadata": {
    "id": "nV-hhbvWKKnf"
   },
   "outputs": [],
   "source": [
    "loss_fn = nn.CrossEntropyLoss()\n",
    "optimizer = torch.optim.Adam(params=model.parameters(), lr=0.001)"
   ]
  },
  {
   "cell_type": "code",
   "execution_count": null,
   "metadata": {
    "id": "crm70lv6J-hB"
   },
   "outputs": [],
   "source": [
    "def train_loop(train_dataloader, model, loss_fn, optimizer, epochs):\n",
    "  model.train() # Put the model in training mode\n",
    "  train_loss = []\n",
    "  for epoch in range(epochs):\n",
    "    train_loss_epoch = 0\n",
    "    for image, label in tqdm(train_dataloader, desc=\"Training Model\"): # tqdm means \"progress\" in Arabic\n",
    "      optimizer.zero_grad()\n",
    "\n",
    "      pred = model(image)\n",
    "      loss = loss_fn(pred, label) # Prediction has to go first (Calculate loss between the prediction and the true value)\n",
    "      loss.backward()\n",
    "      train_loss_epoch += loss.item()\n",
    "\n",
    "      optimizer.step()\n",
    "\n",
    "    avg_loss = train_loss_epoch / len(train_dataloader)\n",
    "    train_loss.append(avg_loss)\n",
    "\n",
    "    print(f'Epoch: {epoch+1} | Loss: {avg_loss:.4f}')\n",
    "\n",
    "  return train_loss\n"
   ]
  },
  {
   "cell_type": "code",
   "execution_count": null,
   "metadata": {
    "colab": {
     "base_uri": "https://localhost:8080/"
    },
    "id": "biczsiKwzR5l",
    "outputId": "d421b59f-904a-44be-871d-14f78b6b8278"
   },
   "outputs": [
    {
     "name": "stderr",
     "output_type": "stream",
     "text": [
      "Training Model: 100%|██████████| 1875/1875 [00:20<00:00, 92.05it/s] \n"
     ]
    },
    {
     "name": "stdout",
     "output_type": "stream",
     "text": [
      "Epoch: 1 | Loss: 6.2076\n"
     ]
    },
    {
     "name": "stderr",
     "output_type": "stream",
     "text": [
      "Training Model: 100%|██████████| 1875/1875 [00:18<00:00, 102.91it/s]\n"
     ]
    },
    {
     "name": "stdout",
     "output_type": "stream",
     "text": [
      "Epoch: 2 | Loss: 0.5445\n"
     ]
    },
    {
     "name": "stderr",
     "output_type": "stream",
     "text": [
      "Training Model: 100%|██████████| 1875/1875 [00:19<00:00, 96.98it/s] \n"
     ]
    },
    {
     "name": "stdout",
     "output_type": "stream",
     "text": [
      "Epoch: 3 | Loss: 0.5085\n"
     ]
    },
    {
     "name": "stderr",
     "output_type": "stream",
     "text": [
      "Training Model: 100%|██████████| 1875/1875 [00:19<00:00, 95.12it/s] \n"
     ]
    },
    {
     "name": "stdout",
     "output_type": "stream",
     "text": [
      "Epoch: 4 | Loss: 0.5621\n"
     ]
    },
    {
     "name": "stderr",
     "output_type": "stream",
     "text": [
      "Training Model: 100%|██████████| 1875/1875 [00:20<00:00, 91.94it/s]\n"
     ]
    },
    {
     "name": "stdout",
     "output_type": "stream",
     "text": [
      "Epoch: 5 | Loss: 10.9282\n"
     ]
    },
    {
     "name": "stderr",
     "output_type": "stream",
     "text": [
      "Training Model: 100%|██████████| 1875/1875 [00:18<00:00, 101.06it/s]\n"
     ]
    },
    {
     "name": "stdout",
     "output_type": "stream",
     "text": [
      "Epoch: 6 | Loss: 0.5782\n"
     ]
    },
    {
     "name": "stderr",
     "output_type": "stream",
     "text": [
      "Training Model: 100%|██████████| 1875/1875 [00:19<00:00, 96.25it/s] \n"
     ]
    },
    {
     "name": "stdout",
     "output_type": "stream",
     "text": [
      "Epoch: 7 | Loss: 0.5090\n"
     ]
    },
    {
     "name": "stderr",
     "output_type": "stream",
     "text": [
      "Training Model: 100%|██████████| 1875/1875 [00:18<00:00, 102.16it/s]\n"
     ]
    },
    {
     "name": "stdout",
     "output_type": "stream",
     "text": [
      "Epoch: 8 | Loss: 0.5419\n"
     ]
    },
    {
     "name": "stderr",
     "output_type": "stream",
     "text": [
      "Training Model: 100%|██████████| 1875/1875 [00:19<00:00, 96.65it/s]\n"
     ]
    },
    {
     "name": "stdout",
     "output_type": "stream",
     "text": [
      "Epoch: 9 | Loss: 7.8651\n"
     ]
    },
    {
     "name": "stderr",
     "output_type": "stream",
     "text": [
      "Training Model: 100%|██████████| 1875/1875 [00:19<00:00, 98.62it/s] \n"
     ]
    },
    {
     "name": "stdout",
     "output_type": "stream",
     "text": [
      "Epoch: 10 | Loss: 1.6630\n"
     ]
    },
    {
     "name": "stderr",
     "output_type": "stream",
     "text": [
      "Training Model: 100%|██████████| 1875/1875 [00:18<00:00, 98.85it/s]\n"
     ]
    },
    {
     "name": "stdout",
     "output_type": "stream",
     "text": [
      "Epoch: 11 | Loss: 0.4883\n"
     ]
    },
    {
     "name": "stderr",
     "output_type": "stream",
     "text": [
      "Training Model: 100%|██████████| 1875/1875 [00:19<00:00, 98.47it/s] \n"
     ]
    },
    {
     "name": "stdout",
     "output_type": "stream",
     "text": [
      "Epoch: 12 | Loss: 0.5137\n"
     ]
    },
    {
     "name": "stderr",
     "output_type": "stream",
     "text": [
      "Training Model: 100%|██████████| 1875/1875 [00:18<00:00, 103.49it/s]\n"
     ]
    },
    {
     "name": "stdout",
     "output_type": "stream",
     "text": [
      "Epoch: 13 | Loss: 0.5572\n"
     ]
    },
    {
     "name": "stderr",
     "output_type": "stream",
     "text": [
      "Training Model: 100%|██████████| 1875/1875 [00:20<00:00, 93.17it/s]\n"
     ]
    },
    {
     "name": "stdout",
     "output_type": "stream",
     "text": [
      "Epoch: 14 | Loss: 12.4970\n"
     ]
    },
    {
     "name": "stderr",
     "output_type": "stream",
     "text": [
      "Training Model: 100%|██████████| 1875/1875 [00:18<00:00, 103.27it/s]\n"
     ]
    },
    {
     "name": "stdout",
     "output_type": "stream",
     "text": [
      "Epoch: 15 | Loss: 0.6674\n"
     ]
    },
    {
     "name": "stderr",
     "output_type": "stream",
     "text": [
      "Training Model: 100%|██████████| 1875/1875 [00:19<00:00, 97.58it/s] \n"
     ]
    },
    {
     "name": "stdout",
     "output_type": "stream",
     "text": [
      "Epoch: 16 | Loss: 0.5005\n"
     ]
    },
    {
     "name": "stderr",
     "output_type": "stream",
     "text": [
      "Training Model: 100%|██████████| 1875/1875 [00:18<00:00, 101.56it/s]\n"
     ]
    },
    {
     "name": "stdout",
     "output_type": "stream",
     "text": [
      "Epoch: 17 | Loss: 0.5058\n"
     ]
    },
    {
     "name": "stderr",
     "output_type": "stream",
     "text": [
      "Training Model: 100%|██████████| 1875/1875 [00:19<00:00, 98.52it/s] \n"
     ]
    },
    {
     "name": "stdout",
     "output_type": "stream",
     "text": [
      "Epoch: 18 | Loss: 0.5347\n"
     ]
    },
    {
     "name": "stderr",
     "output_type": "stream",
     "text": [
      "Training Model: 100%|██████████| 1875/1875 [00:19<00:00, 94.88it/s]\n"
     ]
    },
    {
     "name": "stdout",
     "output_type": "stream",
     "text": [
      "Epoch: 19 | Loss: 6.5452\n"
     ]
    },
    {
     "name": "stderr",
     "output_type": "stream",
     "text": [
      "Training Model: 100%|██████████| 1875/1875 [00:20<00:00, 91.84it/s] \n"
     ]
    },
    {
     "name": "stdout",
     "output_type": "stream",
     "text": [
      "Epoch: 20 | Loss: 0.5173\n"
     ]
    },
    {
     "name": "stderr",
     "output_type": "stream",
     "text": [
      "Training Model: 100%|██████████| 1875/1875 [00:18<00:00, 99.87it/s] \n"
     ]
    },
    {
     "name": "stdout",
     "output_type": "stream",
     "text": [
      "Epoch: 21 | Loss: 0.4870\n"
     ]
    },
    {
     "name": "stderr",
     "output_type": "stream",
     "text": [
      "Training Model: 100%|██████████| 1875/1875 [00:19<00:00, 94.45it/s] \n"
     ]
    },
    {
     "name": "stdout",
     "output_type": "stream",
     "text": [
      "Epoch: 22 | Loss: 0.5302\n"
     ]
    },
    {
     "name": "stderr",
     "output_type": "stream",
     "text": [
      "Training Model: 100%|██████████| 1875/1875 [00:19<00:00, 94.38it/s] \n"
     ]
    },
    {
     "name": "stdout",
     "output_type": "stream",
     "text": [
      "Epoch: 23 | Loss: 10.0816\n"
     ]
    },
    {
     "name": "stderr",
     "output_type": "stream",
     "text": [
      "Training Model: 100%|██████████| 1875/1875 [00:19<00:00, 95.52it/s]\n"
     ]
    },
    {
     "name": "stdout",
     "output_type": "stream",
     "text": [
      "Epoch: 24 | Loss: 0.6809\n"
     ]
    },
    {
     "name": "stderr",
     "output_type": "stream",
     "text": [
      "Training Model: 100%|██████████| 1875/1875 [00:18<00:00, 101.05it/s]"
     ]
    },
    {
     "name": "stdout",
     "output_type": "stream",
     "text": [
      "Epoch: 25 | Loss: 0.4899\n"
     ]
    },
    {
     "name": "stderr",
     "output_type": "stream",
     "text": [
      "\n"
     ]
    }
   ],
   "source": [
    "losses = train_loop(train_dataloader, model, loss_fn, optimizer, epochs=25) # Lets take a few minute break while it trains and we will come back"
   ]
  },
  {
   "cell_type": "code",
   "execution_count": null,
   "metadata": {
    "colab": {
     "base_uri": "https://localhost:8080/"
    },
    "id": "NtaX4AW39KW9",
    "outputId": "07dcf6d1-5479-4588-f724-e1e5c3a0e8c1"
   },
   "outputs": [
    {
     "name": "stdout",
     "output_type": "stream",
     "text": [
      "[6.207615494771798, 0.5445043038407962, 0.5084838258504868, 0.5620799442927042, 10.928162309904893, 0.578213400332133, 0.5089767976045608, 0.5418915134906769, 7.865133950519562, 1.6630352827270827, 0.48829293254613876, 0.5136801134824753, 0.5571704248627027, 12.496993538139265, 0.6674356448610623, 0.5004944233139356, 0.5058229506492615, 0.5346792079607645, 6.545197685345014, 0.5172770857493083, 0.4870087222337723, 0.530237787214915, 10.081575169640779, 0.68092298664848, 0.4898692465265592]\n"
     ]
    }
   ],
   "source": [
    "print(losses)"
   ]
  },
  {
   "cell_type": "code",
   "execution_count": null,
   "metadata": {
    "colab": {
     "base_uri": "https://localhost:8080/",
     "height": 472
    },
    "id": "RHAmLiLW22ll",
    "outputId": "f6723246-59bd-47f8-d5fe-e861ccf1fa8e"
   },
   "outputs": [
    {
     "data": {
      "image/png": "[encoded data removed]",
      "text/plain": [
       "<Figure size 640x480 with 1 Axes>"
      ]
     },
     "metadata": {},
     "output_type": "display_data"
    }
   ],
   "source": [
    "epoch_list = list(range(1, 26))\n",
    "plt.plot(epoch_list, losses)\n",
    "plt.title('Training Loss')\n",
    "plt.xlabel('Epochs')\n",
    "plt.ylabel('Loss')\n",
    "plt.show()"
   ]
  },
  {
   "cell_type": "markdown",
   "metadata": {
    "id": "LmygLgoZzgJt"
   },
   "source": [
    "#Testing the model\n",
    "The model has now been trained on our dataset, so now it is time to see how it performs on data it has never seen before"
   ]
  },
  {
   "cell_type": "code",
   "execution_count": null,
   "metadata": {
    "id": "IueJsYqOz9wt"
   },
   "outputs": [],
   "source": [
    "def accuracy(correct, total):\n",
    "  return correct/total * 100"
   ]
  },
  {
   "cell_type": "code",
   "execution_count": null,
   "metadata": {
    "id": "sBfN4zowzR3V"
   },
   "outputs": [],
   "source": [
    "def test_loop(test_dataloader, model):\n",
    "  model.eval() # Put the model in evaluation mode\n",
    "  correct = 0\n",
    "  total = 0\n",
    "\n",
    "  with torch.no_grad():\n",
    "    for image, label in tqdm(test_dataloader, desc=\"Testing Model\"):\n",
    "      pred = model(image)\n",
    "\n",
    "      correct += (pred.argmax(1) == label).type(torch.float).sum().item()\n",
    "      total += len(label)\n",
    "\n",
    "    print(f'Accuracy: {accuracy(correct, total)}')"
   ]
  },
  {
   "cell_type": "code",
   "execution_count": null,
   "metadata": {
    "colab": {
     "base_uri": "https://localhost:8080/"
    },
    "id": "X2o14FFWzR09",
    "outputId": "b7e5a496-6aa6-445d-999a-1276bb69452c"
   },
   "outputs": [
    {
     "name": "stderr",
     "output_type": "stream",
     "text": [
      "Testing Model: 100%|██████████| 313/313 [00:01<00:00, 168.80it/s]"
     ]
    },
    {
     "name": "stdout",
     "output_type": "stream",
     "text": [
      "Accuracy: 82.73\n"
     ]
    },
    {
     "name": "stderr",
     "output_type": "stream",
     "text": [
      "\n"
     ]
    }
   ],
   "source": [
    "test_loop(test_dataloader, model)"
   ]
  },
  {
   "cell_type": "markdown",
   "metadata": {
    "id": "TjUaYY5r2zHl"
   },
   "source": [
    "#Visualize Testing"
   ]
  },
  {
   "cell_type": "code",
   "execution_count": null,
   "metadata": {
    "colab": {
     "base_uri": "https://localhost:8080/",
     "height": 468
    },
    "id": "chV_n4SzJh7H",
    "outputId": "8115545a-7b7b-49c8-cbe8-975ca0301ce9"
   },
   "outputs": [
    {
     "data": {
      "image/png": "[encoded data removed]",
      "text/plain": [
       "<Figure size 500x500 with 1 Axes>"
      ]
     },
     "metadata": {},
     "output_type": "display_data"
    }
   ],
   "source": [
    "rand_idx = torch.randint(0, len(test_data), (1,)).item()\n",
    "image, label = test_data[rand_idx]\n",
    "\n",
    "prediction = model(image)\n",
    "\n",
    "# Get the predicted class index\n",
    "pred_idx = prediction[0].argmax().item()  # For first image in batch\n",
    "\n",
    "plt.figure(figsize=(5,5))\n",
    "plt.title(f'Prediction: {test_data.classes[pred_idx]} | Correct Label: {test_data.classes[label]}')\n",
    "plt.imshow(image[0].squeeze(), cmap='gray')  # Show first image in batch\n",
    "plt.show()"
   ]
  },
  {
   "cell_type": "markdown",
   "metadata": {
    "id": "XayB0DYHM_Qf"
   },
   "source": [
    "#Hyperparameter Tuning\n",
    "1. Change Learning Rate And see if the accuracy improves\n",
    "2. Play with the number of epochs and see when the loss converges\n",
    "3. Try adding more layers to the neural network\n"
   ]
  }
 ],
 "metadata": {
  "colab": {
   "include_colab_link": true,
   "provenance": []
  },
  "kernelspec": {
   "display_name": "Python 3 (ipykernel)",
   "language": "python",
   "name": "python3"
  },
  "language_info": {
   "codemirror_mode": {
    "name": "ipython",
    "version": 3
   },
   "file_extension": ".py",
   "mimetype": "text/x-python",
   "name": "python",
   "nbconvert_exporter": "python",
   "pygments_lexer": "ipython3",
   "version": "3.10.12"
  }
 },
 "nbformat": 4,
 "nbformat_minor": 4
}
