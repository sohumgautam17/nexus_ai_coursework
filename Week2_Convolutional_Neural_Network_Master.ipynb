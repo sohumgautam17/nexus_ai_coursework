{
 "cells": [
  {
   "cell_type": "markdown",
   "metadata": {
    "colab_type": "text",
    "id": "view-in-github"
   },
   "source": [
    "<a href=\"https://colab.research.google.com/github/sohumgautam17/nexus_ai_coursework/blob/main/Convolutional_Nerual_Network_Master.ipynb\" target=\"_parent\"><img src=\"https://colab.research.google.com/assets/colab-badge.svg\" alt=\"Open In Colab\"/></a>"
   ]
  },
  {
   "cell_type": "code",
   "execution_count": 9,
   "metadata": {
    "colab": {
     "base_uri": "https://localhost:8080/"
    },
    "id": "NfSLUQzKXgMO",
    "outputId": "ddc128e5-a037-4364-9d3e-583f3deb600b"
   },
   "outputs": [
    {
     "name": "stdout",
     "output_type": "stream",
     "text": [
      "2.4.1+cu121\n"
     ]
    }
   ],
   "source": [
    "import torch\n",
    "from torch import nn # This imports the neural network library (All the features we need are here)\n",
    "\n",
    "import torchvision\n",
    "from torchvision import datasets\n",
    "from torchvision.transforms import ToTensor\n",
    "from torch.utils.data import DataLoader, Subset, Dataset\n",
    "\n",
    "from torchsummary import summary\n",
    "from tqdm import tqdm\n",
    "\n",
    "import matplotlib as plt\n",
    "import matplotlib.pyplot as plt\n",
    "import numpy as np\n",
    "\n",
    "print(torch.__version__)"
   ]
  },
  {
   "cell_type": "markdown",
   "metadata": {
    "id": "LinddEhhZkx9"
   },
   "source": [
    "#Loading the CIFAR-10 Dataset from PyTorch torchvision (Step 1)\n",
    "The first step of the project is to load the data we want to use.\n",
    "CIFAR-10 is a widely-used dataset for image classification tasks, created by Alex Krizhevsky, Vinod Nair, and Geoffrey Hinton. Here are its key characteristics:\n",
    "\n",
    "1. The dataset consists of `60,000` color images of everyday objects:\n",
    "\n",
    ">>50,000 training images\n",
    ">>10,000 test images\n",
    "\n",
    "2. Each image is '32x32` pixels with 3 color channels (RGB), making it slightly larger and more complex than Fashion-MNIST.\n",
    "\n",
    "3. The dataset contains 10 different classes of objects, labeled from 0 to 9:\n",
    "\n",
    "  1. Airplane\n",
    "  2. Automobile\n",
    "  3. Bird\n",
    "  4. Cat\n",
    "  5. Deer\n",
    "  6. Dog\n",
    "  7. Frog\n",
    "  8. Horse\n",
    "  9. Ship\n",
    "  10. Truck\n",
    "\n",
    "4. The classes are balanced, with each having exactly 5,000 training images and 1,000 test images.\n",
    "\n"
   ]
  },
  {
   "cell_type": "markdown",
   "metadata": {
    "id": "XvVNze8SabEe"
   },
   "source": []
  },
  {
   "cell_type": "markdown",
   "metadata": {
    "id": "yY2QU0Zxaa-e"
   },
   "source": [
    "![An Image](https://datasets.activeloop.ai/wp-content/uploads/2022/09/CIFAR-10-dataset-Activeloop-Platform-visualization-image-1.webp)"
   ]
  },
  {
   "cell_type": "code",
   "execution_count": null,
   "metadata": {
    "colab": {
     "base_uri": "https://localhost:8080/"
    },
    "id": "JBY7KNvZZoI2",
    "outputId": "e6aec680-80d5-4a6d-caa5-48c7a124b804"
   },
   "outputs": [
    {
     "name": "stdout",
     "output_type": "stream",
     "text": [
      "Files already downloaded and verified\n",
      "Files already downloaded and verified\n"
     ]
    }
   ],
   "source": [
    "train_data = datasets.CIFAR10(\n",
    "    root=\"data\",\n",
    "    train=True,\n",
    "    download=True,\n",
    "    transform=ToTensor()\n",
    "    )\n",
    "\n",
    "test_data = datasets.CIFAR10(\n",
    "    root=\"data\",\n",
    "    train=False,\n",
    "    download=True,\n",
    "    transform=ToTensor())"
   ]
  },
  {
   "cell_type": "code",
   "execution_count": 12,
   "metadata": {
    "colab": {
     "base_uri": "https://localhost:8080/"
    },
    "id": "Sw1J3a0qZoaf",
    "outputId": "a78ef4a3-7ee0-4e92-ee5e-31da09782044"
   },
   "outputs": [
    {
     "name": "stdout",
     "output_type": "stream",
     "text": [
      "Length of the train dataset: 50000 | Shape of train data (50000, 32, 32, 3)\n",
      "Length of the train dataset: 10000 | Shape of train data (10000, 32, 32, 3)\n"
     ]
    }
   ],
   "source": [
    "print(f'Length of the train dataset: {len(train_data)} | Shape of train data {train_data.data.shape}')\n",
    "print(f'Length of the train dataset: {len(test_data)} | Shape of train data {test_data.data.shape}')"
   ]
  },
  {
   "cell_type": "code",
   "execution_count": 13,
   "metadata": {
    "colab": {
     "base_uri": "https://localhost:8080/"
    },
    "id": "UP8BpRU8ZoYN",
    "outputId": "8eac779d-20b8-4efd-af4a-70fcd81f7fb4"
   },
   "outputs": [
    {
     "name": "stdout",
     "output_type": "stream",
     "text": [
      "There are 10 classes (clothing items) in the dataset\n",
      "These are the classes: ['airplane', 'automobile', 'bird', 'cat', 'deer', 'dog', 'frog', 'horse', 'ship', 'truck']\n"
     ]
    }
   ],
   "source": [
    "print(f'There are {len(train_data.classes)} classes (clothing items) in the dataset')\n",
    "print(f'These are the classes: {train_data.classes}')"
   ]
  },
  {
   "cell_type": "code",
   "execution_count": 14,
   "metadata": {
    "colab": {
     "base_uri": "https://localhost:8080/"
    },
    "id": "usa1q1N_ZoV-",
    "outputId": "33766247-f0a4-4dd1-df02-3faf52511690"
   },
   "outputs": [
    {
     "name": "stdout",
     "output_type": "stream",
     "text": [
      "Shape of the first image: torch.Size([3, 32, 32])\n",
      "The class of the first image: 6\n"
     ]
    }
   ],
   "source": [
    "print(f'Shape of the first image: {train_data[0][0].shape}') # The first zero indexes the tuple, the next indexes the image in the tuple\n",
    "print(f'The class of the first image: {train_data[0][1]}')"
   ]
  },
  {
   "cell_type": "markdown",
   "metadata": {
    "id": "Bangm--daoL4"
   },
   "source": [
    "#Visualize"
   ]
  },
  {
   "cell_type": "code",
   "execution_count": 16,
   "metadata": {
    "colab": {
     "base_uri": "https://localhost:8080/",
     "height": 452
    },
    "collapsed": true,
    "id": "UBSiRIzDapeA",
    "jupyter": {
     "outputs_hidden": true
    },
    "outputId": "e1900d51-dcdd-47e6-93a5-c357fed341cc"
   },
   "outputs": [
    {
     "data": {
      "image/png": "[encoded data removed]",
      "text/plain": [
       "<Figure size 640x480 with 1 Axes>"
      ]
     },
     "metadata": {},
     "output_type": "display_data"
    }
   ],
   "source": [
    "image_num = 9224 #@param {type:\"raw\"}\n",
    "image = train_data[image_num][0].permute(1, 2, 0) # train_data[image_num] is a tuple of (image, label)... we index 0 to get the image\n",
    "# Once we index 0, we change the order from (channel x height x width) -> (height, width, channel)***This is how matplotlib reads images\n",
    "plt.imshow(image)\n",
    "label = train_data[image_num][1]\n",
    "plt.title(f'Class: {label}; {train_data.classes[label]}')\n",
    "plt.show()"
   ]
  },
  {
   "cell_type": "markdown",
   "metadata": {
    "id": "zdFN3f0XarII"
   },
   "source": [
    "# Building the Model (Step 3)\n"
   ]
  },
  {
   "cell_type": "code",
   "execution_count": 17,
   "metadata": {
    "id": "fE4sNMm5bAyu"
   },
   "outputs": [],
   "source": [
    "class ConvNet(nn.Module):\n",
    "  def __init__(self):\n",
    "    super().__init__()\n",
    "    self.conv_layers = nn.Sequential(\n",
    "        nn.Conv2d(in_channels=3, out_channels=16, kernel_size=3, padding=1),\n",
    "        nn.BatchNorm2d(16),\n",
    "        nn.ReLU(),\n",
    "        nn.MaxPool2d(kernel_size=2, stride=2),\n",
    "        nn.Conv2d(in_channels=16, out_channels=32, kernel_size=3, padding=1),\n",
    "        nn.BatchNorm2d(32),\n",
    "        nn.ReLU(),\n",
    "        nn.MaxPool2d(kernel_size=2, stride=2)\n",
    "    )\n",
    "    self.fully_connected = nn.Sequential(\n",
    "        nn.Linear(in_features=32*8*8, out_features=128),\n",
    "        nn.ReLU(),\n",
    "        nn.Linear(in_features=128, out_features=10)\n",
    "    )\n",
    "    self.flatten = nn.Flatten()\n",
    "  def forward(self, x):\n",
    "    x = self.conv_layers(x)\n",
    "    #print(f'Shape coming out of convnet will be: {x.shape}')\n",
    "    x = self.flatten(x)\n",
    "    x = self.fully_connected(x)\n",
    "    return x\n",
    "\n",
    "model = ConvNet()"
   ]
  },
  {
   "cell_type": "code",
   "execution_count": 18,
   "metadata": {
    "colab": {
     "base_uri": "https://localhost:8080/"
    },
    "id": "fLf4q_2yw5P5",
    "outputId": "e2251da1-e419-4791-a687-f24432b88dd2"
   },
   "outputs": [
    {
     "name": "stdout",
     "output_type": "stream",
     "text": [
      "----------------------------------------------------------------\n",
      "        Layer (type)               Output Shape         Param #\n",
      "================================================================\n",
      "            Conv2d-1           [-1, 16, 32, 32]             448\n",
      "       BatchNorm2d-2           [-1, 16, 32, 32]              32\n",
      "              ReLU-3           [-1, 16, 32, 32]               0\n",
      "         MaxPool2d-4           [-1, 16, 16, 16]               0\n",
      "            Conv2d-5           [-1, 32, 16, 16]           4,640\n",
      "       BatchNorm2d-6           [-1, 32, 16, 16]              64\n",
      "              ReLU-7           [-1, 32, 16, 16]               0\n",
      "         MaxPool2d-8             [-1, 32, 8, 8]               0\n",
      "           Flatten-9                 [-1, 2048]               0\n",
      "           Linear-10                  [-1, 128]         262,272\n",
      "             ReLU-11                  [-1, 128]               0\n",
      "           Linear-12                   [-1, 10]           1,290\n",
      "================================================================\n",
      "Total params: 268,746\n",
      "Trainable params: 268,746\n",
      "Non-trainable params: 0\n",
      "----------------------------------------------------------------\n",
      "Input size (MB): 0.01\n",
      "Forward/backward pass size (MB): 0.63\n",
      "Params size (MB): 1.03\n",
      "Estimated Total Size (MB): 1.66\n",
      "----------------------------------------------------------------\n"
     ]
    }
   ],
   "source": [
    "summary(model, (3, 32, 32))"
   ]
  },
  {
   "cell_type": "markdown",
   "metadata": {
    "id": "DBg8Bt6HzZ8S"
   },
   "source": [
    "#Training the Model\n",
    "1. Take the train_data as input (This includes the image and the class label)\n",
    "2. Make a Prediction with the Model\n",
    "3. See how right/wrong the prediction was w/ the loss function\n",
    "4. Update the model parameters to do better next time"
   ]
  },
  {
   "cell_type": "code",
   "execution_count": 19,
   "metadata": {
    "id": "9_OxrZdzzWQT"
   },
   "outputs": [],
   "source": [
    "train_dataloader = DataLoader(train_data, batch_size=32, shuffle=True)\n",
    "test_dataloader = DataLoader(test_data, batch_size=32, shuffle=False)"
   ]
  },
  {
   "cell_type": "code",
   "execution_count": 20,
   "metadata": {
    "colab": {
     "base_uri": "https://localhost:8080/"
    },
    "id": "3sQCrkvJzWMC",
    "outputId": "7d8ee4eb-e8fb-486a-dec0-9d1bc249e9d9"
   },
   "outputs": [
    {
     "name": "stdout",
     "output_type": "stream",
     "text": [
      "Shape of the images: torch.Size([32, 3, 32, 32])\n",
      "Shape of the labels: torch.Size([32])\n",
      "Number of batches is: 1563\n"
     ]
    }
   ],
   "source": [
    "images, labels = next(iter(train_dataloader))\n",
    "print(f'Shape of the images: {images.shape}')\n",
    "print(f'Shape of the labels: {labels.shape}')\n",
    "print(f'Number of batches is: {len(iter(train_dataloader))}') # 60 x 1875 = 60000"
   ]
  },
  {
   "cell_type": "code",
   "execution_count": 22,
   "metadata": {
    "id": "uOGNnudpzWJq"
   },
   "outputs": [],
   "source": [
    "loss_fn = nn.CrossEntropyLoss()\n",
    "optimizer = torch.optim.Adam(params=model.parameters(), lr=0.09)"
   ]
  },
  {
   "cell_type": "code",
   "execution_count": 23,
   "metadata": {
    "id": "KP01ErASzWHR"
   },
   "outputs": [],
   "source": [
    "def train_loop(train_dataloader, model, loss_fn, optimizer, epochs):\n",
    "  model.train() # Put the model in training mode\n",
    "  train_loss = []\n",
    "  for epoch in range(epochs):\n",
    "    train_loss_epoch = 0\n",
    "    for image, label in tqdm(train_dataloader, desc=\"Training Model\"):\n",
    "      optimizer.zero_grad()\n",
    "\n",
    "      pred = model(image)\n",
    "      loss = loss_fn(pred, label) # Prediction has to go first (Calculate loss between the prediction and the true value)\n",
    "      loss.backward()\n",
    "      train_loss_epoch += loss.item()\n",
    "\n",
    "      optimizer.step()\n",
    "\n",
    "    avg_loss = train_loss_epoch / len(train_dataloader)\n",
    "    train_loss.append(avg_loss)\n",
    "\n",
    "    print(f'Epoch: {epoch+1} | Loss: {avg_loss:.4f}')\n",
    "\n",
    "  return train_loss\n"
   ]
  },
  {
   "cell_type": "code",
   "execution_count": 33,
   "metadata": {
    "colab": {
     "base_uri": "https://localhost:8080/"
    },
    "id": "dhvf8G23zWCi",
    "outputId": "9d9abe72-11cb-4be2-ed42-d8d6711e7a03"
   },
   "outputs": [
    {
     "name": "stderr",
     "output_type": "stream",
     "text": [
      "Training Model: 100%|██████████| 1563/1563 [00:28<00:00, 54.98it/s]\n"
     ]
    },
    {
     "name": "stdout",
     "output_type": "stream",
     "text": [
      "Epoch: 1 | Loss: 0.9727\n"
     ]
    },
    {
     "name": "stderr",
     "output_type": "stream",
     "text": [
      "Training Model: 100%|██████████| 1563/1563 [00:27<00:00, 56.34it/s]\n"
     ]
    },
    {
     "name": "stdout",
     "output_type": "stream",
     "text": [
      "Epoch: 2 | Loss: 0.9707\n"
     ]
    },
    {
     "name": "stderr",
     "output_type": "stream",
     "text": [
      "Training Model: 100%|██████████| 1563/1563 [00:27<00:00, 56.09it/s]\n"
     ]
    },
    {
     "name": "stdout",
     "output_type": "stream",
     "text": [
      "Epoch: 3 | Loss: 0.9663\n"
     ]
    },
    {
     "name": "stderr",
     "output_type": "stream",
     "text": [
      "Training Model: 100%|██████████| 1563/1563 [00:27<00:00, 56.66it/s]\n"
     ]
    },
    {
     "name": "stdout",
     "output_type": "stream",
     "text": [
      "Epoch: 4 | Loss: 0.9550\n"
     ]
    },
    {
     "name": "stderr",
     "output_type": "stream",
     "text": [
      "Training Model: 100%|██████████| 1563/1563 [00:27<00:00, 57.08it/s]\n"
     ]
    },
    {
     "name": "stdout",
     "output_type": "stream",
     "text": [
      "Epoch: 5 | Loss: 0.9527\n"
     ]
    },
    {
     "name": "stderr",
     "output_type": "stream",
     "text": [
      "Training Model: 100%|██████████| 1563/1563 [00:27<00:00, 56.25it/s]\n"
     ]
    },
    {
     "name": "stdout",
     "output_type": "stream",
     "text": [
      "Epoch: 6 | Loss: 0.9453\n"
     ]
    },
    {
     "name": "stderr",
     "output_type": "stream",
     "text": [
      "Training Model: 100%|██████████| 1563/1563 [00:27<00:00, 56.17it/s]\n"
     ]
    },
    {
     "name": "stdout",
     "output_type": "stream",
     "text": [
      "Epoch: 7 | Loss: 0.9450\n"
     ]
    },
    {
     "name": "stderr",
     "output_type": "stream",
     "text": [
      "Training Model: 100%|██████████| 1563/1563 [00:27<00:00, 56.49it/s]\n"
     ]
    },
    {
     "name": "stdout",
     "output_type": "stream",
     "text": [
      "Epoch: 8 | Loss: 0.9411\n"
     ]
    },
    {
     "name": "stderr",
     "output_type": "stream",
     "text": [
      "Training Model: 100%|██████████| 1563/1563 [00:28<00:00, 55.82it/s]\n"
     ]
    },
    {
     "name": "stdout",
     "output_type": "stream",
     "text": [
      "Epoch: 9 | Loss: 0.9361\n"
     ]
    },
    {
     "name": "stderr",
     "output_type": "stream",
     "text": [
      "Training Model: 100%|██████████| 1563/1563 [00:27<00:00, 56.60it/s]\n"
     ]
    },
    {
     "name": "stdout",
     "output_type": "stream",
     "text": [
      "Epoch: 10 | Loss: 0.9323\n"
     ]
    },
    {
     "name": "stderr",
     "output_type": "stream",
     "text": [
      "Training Model: 100%|██████████| 1563/1563 [00:27<00:00, 56.64it/s]\n"
     ]
    },
    {
     "name": "stdout",
     "output_type": "stream",
     "text": [
      "Epoch: 11 | Loss: 0.9249\n"
     ]
    },
    {
     "name": "stderr",
     "output_type": "stream",
     "text": [
      "Training Model: 100%|██████████| 1563/1563 [00:27<00:00, 56.66it/s]\n"
     ]
    },
    {
     "name": "stdout",
     "output_type": "stream",
     "text": [
      "Epoch: 12 | Loss: 0.9250\n"
     ]
    },
    {
     "name": "stderr",
     "output_type": "stream",
     "text": [
      "Training Model: 100%|██████████| 1563/1563 [00:28<00:00, 55.73it/s]\n"
     ]
    },
    {
     "name": "stdout",
     "output_type": "stream",
     "text": [
      "Epoch: 13 | Loss: 0.9242\n"
     ]
    },
    {
     "name": "stderr",
     "output_type": "stream",
     "text": [
      "Training Model: 100%|██████████| 1563/1563 [00:28<00:00, 55.57it/s]\n"
     ]
    },
    {
     "name": "stdout",
     "output_type": "stream",
     "text": [
      "Epoch: 14 | Loss: 0.9176\n"
     ]
    },
    {
     "name": "stderr",
     "output_type": "stream",
     "text": [
      "Training Model: 100%|██████████| 1563/1563 [00:29<00:00, 53.34it/s]\n"
     ]
    },
    {
     "name": "stdout",
     "output_type": "stream",
     "text": [
      "Epoch: 15 | Loss: 0.9139\n"
     ]
    },
    {
     "name": "stderr",
     "output_type": "stream",
     "text": [
      "Training Model: 100%|██████████| 1563/1563 [00:27<00:00, 56.48it/s]\n"
     ]
    },
    {
     "name": "stdout",
     "output_type": "stream",
     "text": [
      "Epoch: 16 | Loss: 0.9105\n"
     ]
    },
    {
     "name": "stderr",
     "output_type": "stream",
     "text": [
      "Training Model: 100%|██████████| 1563/1563 [00:27<00:00, 55.93it/s]\n"
     ]
    },
    {
     "name": "stdout",
     "output_type": "stream",
     "text": [
      "Epoch: 17 | Loss: 0.9118\n"
     ]
    },
    {
     "name": "stderr",
     "output_type": "stream",
     "text": [
      "Training Model: 100%|██████████| 1563/1563 [00:28<00:00, 54.96it/s]\n"
     ]
    },
    {
     "name": "stdout",
     "output_type": "stream",
     "text": [
      "Epoch: 18 | Loss: 0.9086\n"
     ]
    },
    {
     "name": "stderr",
     "output_type": "stream",
     "text": [
      "Training Model: 100%|██████████| 1563/1563 [00:28<00:00, 55.09it/s]\n"
     ]
    },
    {
     "name": "stdout",
     "output_type": "stream",
     "text": [
      "Epoch: 19 | Loss: 0.9015\n"
     ]
    },
    {
     "name": "stderr",
     "output_type": "stream",
     "text": [
      "Training Model: 100%|██████████| 1563/1563 [00:31<00:00, 49.36it/s]\n"
     ]
    },
    {
     "name": "stdout",
     "output_type": "stream",
     "text": [
      "Epoch: 20 | Loss: 0.9001\n"
     ]
    },
    {
     "name": "stderr",
     "output_type": "stream",
     "text": [
      "Training Model: 100%|██████████| 1563/1563 [00:28<00:00, 55.63it/s]\n"
     ]
    },
    {
     "name": "stdout",
     "output_type": "stream",
     "text": [
      "Epoch: 21 | Loss: 0.8966\n"
     ]
    },
    {
     "name": "stderr",
     "output_type": "stream",
     "text": [
      "Training Model: 100%|██████████| 1563/1563 [00:28<00:00, 55.40it/s]\n"
     ]
    },
    {
     "name": "stdout",
     "output_type": "stream",
     "text": [
      "Epoch: 22 | Loss: 0.9028\n"
     ]
    },
    {
     "name": "stderr",
     "output_type": "stream",
     "text": [
      "Training Model: 100%|██████████| 1563/1563 [00:28<00:00, 55.07it/s]\n"
     ]
    },
    {
     "name": "stdout",
     "output_type": "stream",
     "text": [
      "Epoch: 23 | Loss: 0.8931\n"
     ]
    },
    {
     "name": "stderr",
     "output_type": "stream",
     "text": [
      "Training Model: 100%|██████████| 1563/1563 [00:28<00:00, 55.39it/s]\n"
     ]
    },
    {
     "name": "stdout",
     "output_type": "stream",
     "text": [
      "Epoch: 24 | Loss: 0.8873\n"
     ]
    },
    {
     "name": "stderr",
     "output_type": "stream",
     "text": [
      "Training Model: 100%|██████████| 1563/1563 [00:28<00:00, 54.82it/s]\n"
     ]
    },
    {
     "name": "stdout",
     "output_type": "stream",
     "text": [
      "Epoch: 25 | Loss: 0.8866\n"
     ]
    },
    {
     "name": "stderr",
     "output_type": "stream",
     "text": [
      "Training Model: 100%|██████████| 1563/1563 [00:28<00:00, 54.74it/s]\n"
     ]
    },
    {
     "name": "stdout",
     "output_type": "stream",
     "text": [
      "Epoch: 26 | Loss: 0.8896\n"
     ]
    },
    {
     "name": "stderr",
     "output_type": "stream",
     "text": [
      "Training Model: 100%|██████████| 1563/1563 [00:28<00:00, 54.50it/s]\n"
     ]
    },
    {
     "name": "stdout",
     "output_type": "stream",
     "text": [
      "Epoch: 27 | Loss: 0.8870\n"
     ]
    },
    {
     "name": "stderr",
     "output_type": "stream",
     "text": [
      "Training Model: 100%|██████████| 1563/1563 [00:29<00:00, 53.02it/s]\n"
     ]
    },
    {
     "name": "stdout",
     "output_type": "stream",
     "text": [
      "Epoch: 28 | Loss: 0.8817\n"
     ]
    },
    {
     "name": "stderr",
     "output_type": "stream",
     "text": [
      "Training Model: 100%|██████████| 1563/1563 [00:30<00:00, 52.10it/s]\n"
     ]
    },
    {
     "name": "stdout",
     "output_type": "stream",
     "text": [
      "Epoch: 29 | Loss: 0.8860\n"
     ]
    },
    {
     "name": "stderr",
     "output_type": "stream",
     "text": [
      "Training Model: 100%|██████████| 1563/1563 [00:29<00:00, 52.21it/s]\n"
     ]
    },
    {
     "name": "stdout",
     "output_type": "stream",
     "text": [
      "Epoch: 30 | Loss: 0.8856\n"
     ]
    },
    {
     "name": "stderr",
     "output_type": "stream",
     "text": [
      "Training Model: 100%|██████████| 1563/1563 [00:30<00:00, 51.32it/s]\n"
     ]
    },
    {
     "name": "stdout",
     "output_type": "stream",
     "text": [
      "Epoch: 31 | Loss: 0.8767\n"
     ]
    },
    {
     "name": "stderr",
     "output_type": "stream",
     "text": [
      "Training Model: 100%|██████████| 1563/1563 [00:30<00:00, 51.18it/s]\n"
     ]
    },
    {
     "name": "stdout",
     "output_type": "stream",
     "text": [
      "Epoch: 32 | Loss: 0.8780\n"
     ]
    },
    {
     "name": "stderr",
     "output_type": "stream",
     "text": [
      "Training Model: 100%|██████████| 1563/1563 [00:31<00:00, 50.19it/s]\n"
     ]
    },
    {
     "name": "stdout",
     "output_type": "stream",
     "text": [
      "Epoch: 33 | Loss: 0.8754\n"
     ]
    },
    {
     "name": "stderr",
     "output_type": "stream",
     "text": [
      "Training Model: 100%|██████████| 1563/1563 [00:32<00:00, 48.12it/s]\n"
     ]
    },
    {
     "name": "stdout",
     "output_type": "stream",
     "text": [
      "Epoch: 34 | Loss: 0.8780\n"
     ]
    },
    {
     "name": "stderr",
     "output_type": "stream",
     "text": [
      "Training Model: 100%|██████████| 1563/1563 [00:33<00:00, 46.40it/s]"
     ]
    },
    {
     "name": "stdout",
     "output_type": "stream",
     "text": [
      "Epoch: 35 | Loss: 0.8765\n"
     ]
    },
    {
     "name": "stderr",
     "output_type": "stream",
     "text": [
      "\n"
     ]
    }
   ],
   "source": [
    "losses = train_loop(train_dataloader, model, loss_fn, optimizer, epochs=35) # Lets take a few minute break while it trains and we will come back"
   ]
  },
  {
   "cell_type": "code",
   "execution_count": 34,
   "metadata": {
    "colab": {
     "base_uri": "https://localhost:8080/"
    },
    "id": "TVosyXJfzVyb",
    "outputId": "49a7254e-8203-4d5b-cab7-c0bbf7637780"
   },
   "outputs": [
    {
     "name": "stdout",
     "output_type": "stream",
     "text": [
      "[0.9726560947724207, 0.9706887255016993, 0.9663024831870696, 0.9550040248907764, 0.9526660091131067, 0.9452992553750598, 0.9450452510203143, 0.9411048879245116, 0.9361220437101424, 0.9322871643423043, 0.924934043917836, 0.9249646294139855, 0.9242436716896711, 0.917600813273505, 0.9139196317468937, 0.9104995649362785, 0.9117634681769082, 0.9085637410519906, 0.9014943767570183, 0.9000950863898296, 0.8966039042784019, 0.9028135631722055, 0.8931019233345452, 0.8872513652553332, 0.8865856156658837, 0.8896337858736706, 0.8870396840785912, 0.881681990486189, 0.8859874425945722, 0.8855902806200893, 0.8766725984278658, 0.8779906197686418, 0.8753958681189549, 0.8779666894952685, 0.8764884338230944]\n"
     ]
    }
   ],
   "source": [
    "print(losses)"
   ]
  },
  {
   "cell_type": "code",
   "execution_count": 36,
   "metadata": {
    "colab": {
     "base_uri": "https://localhost:8080/",
     "height": 472
    },
    "id": "4Gmd-T-Wzuyx",
    "outputId": "eb2e99ee-9030-4726-be1e-f1e2e9df3a33"
   },
   "outputs": [
    {
     "data": {
      "image/png": "[encoded data removed]",
      "text/plain": [
       "<Figure size 640x480 with 1 Axes>"
      ]
     },
     "metadata": {},
     "output_type": "display_data"
    }
   ],
   "source": [
    "epoch_list = list(range(1, len(losses) + 1))\n",
    "plt.plot(epoch_list, losses)\n",
    "plt.title('Training Loss')\n",
    "plt.xlabel('Epochs')\n",
    "plt.ylabel('Loss')\n",
    "plt.show()"
   ]
  },
  {
   "cell_type": "code",
   "execution_count": 37,
   "metadata": {
    "id": "FJXIpNlLzuwq"
   },
   "outputs": [],
   "source": [
    "def accuracy(correct, total):\n",
    "  return correct/total * 100"
   ]
  },
  {
   "cell_type": "code",
   "execution_count": 38,
   "metadata": {
    "id": "3NZC0JyPzuuS"
   },
   "outputs": [],
   "source": [
    "def test_loop(test_dataloader, model):\n",
    "  model.eval() # Put the model in evaluation mode\n",
    "  correct = 0\n",
    "  total = 0\n",
    "\n",
    "  with torch.no_grad():\n",
    "    for image, label in tqdm(test_dataloader, desc=\"Testing Model\"):\n",
    "      pred = model(image)\n",
    "\n",
    "      correct += (pred.argmax(1) == label).type(torch.float).sum().item()\n",
    "      total += len(label)\n",
    "\n",
    "    print(f'Accuracy: {accuracy(correct, total)}')"
   ]
  },
  {
   "cell_type": "code",
   "execution_count": 39,
   "metadata": {
    "colab": {
     "base_uri": "https://localhost:8080/"
    },
    "id": "B7EUFhOjzur7",
    "outputId": "c1d46dcf-bd0a-418d-b59a-b535d3024196"
   },
   "outputs": [
    {
     "name": "stderr",
     "output_type": "stream",
     "text": [
      "Testing Model: 100%|██████████| 313/313 [00:02<00:00, 114.29it/s]"
     ]
    },
    {
     "name": "stdout",
     "output_type": "stream",
     "text": [
      "Accuracy: 61.019999999999996\n"
     ]
    },
    {
     "name": "stderr",
     "output_type": "stream",
     "text": [
      "\n"
     ]
    }
   ],
   "source": [
    "test_loop(test_dataloader, model)"
   ]
  },
  {
   "cell_type": "markdown",
   "metadata": {
    "id": "sQ_vPCgMz1Gh"
   },
   "source": [
    "#Visualize Testing"
   ]
  },
  {
   "cell_type": "code",
   "execution_count": null,
   "metadata": {
    "colab": {
     "base_uri": "https://localhost:8080/",
     "height": 486
    },
    "id": "M6VheunMzyhy",
    "outputId": "f6ee8d10-e98d-4170-e073-af0048069581"
   },
   "outputs": [
    {
     "name": "stdout",
     "output_type": "stream",
     "text": [
      "torch.Size([3, 32, 32])\n"
     ]
    },
    {
     "data": {
      "image/png": "[encoded data removed]",
      "text/plain": [
       "<Figure size 500x500 with 1 Axes>"
      ]
     },
     "metadata": {},
     "output_type": "display_data"
    }
   ],
   "source": [
    "rand_idx = torch.randint(0, len(test_data), (1,)).item()\n",
    "image, label = test_data[rand_idx]\n",
    "\n",
    "print(image.shape)\n",
    "with torch.no_grad():\n",
    "  prediction = model(image.unsqueeze(0))\n",
    "\n",
    "# Get the predicted class index\n",
    "pred_idx = prediction[0].argmax().item()  # For first image in batch\n",
    "\n",
    "plt.figure(figsize=(5,5))\n",
    "plt.title(f'Prediction: {test_data.classes[pred_idx]} | Correct Label: {test_data.classes[label]}')\n",
    "plt.imshow(image[0].squeeze(), cmap='gray')  # Show first image in batch\n",
    "plt.show()"
   ]
  },
  {
   "cell_type": "markdown",
   "metadata": {
    "id": "W8kqF3HPDYOj"
   },
   "source": [
    "#Data Augmentation & Loading Open Source Dataset\n",
    "Data Augmentation is a technique used to artificially increase the size of your training dataset by creating modified versions of your existing data. Think of it like taking a photo and creating several variations of it - tilting it slightly, making it brighter or darker, flipping it horizontally, or zooming in a bit.\n",
    "\n",
    "In this case our model is very small, only two Conv Layers and 2 linear layers\n",
    "But but what if this was our model was 50 layers? Thats a pretty big model. The amount of data you would need to train that would be much larger than 50,000 images, a good amount would maybe be 100,000-1,000,000 depending on the complexity of the model"
   ]
  },
  {
   "cell_type": "markdown",
   "metadata": {
    "id": "4_ONWn2EGjUi"
   },
   "source": []
  },
  {
   "cell_type": "markdown",
   "metadata": {
    "id": "ndF6ityIEoAj"
   },
   "source": [
    "###Load Data\n"
   ]
  },
  {
   "cell_type": "code",
   "execution_count": null,
   "metadata": {
    "colab": {
     "base_uri": "https://localhost:8080/"
    },
    "id": "5UqNr2qVzyfb",
    "outputId": "fa1dd6fe-376e-4549-a35c-87452f7f551f"
   },
   "outputs": [
    {
     "name": "stdout",
     "output_type": "stream",
     "text": [
      "Files already downloaded and verified\n",
      "Files already downloaded and verified\n"
     ]
    }
   ],
   "source": [
    "train_data = datasets.CIFAR10(\n",
    "    root=\"data\",\n",
    "    train=True,\n",
    "    download=True,\n",
    "    transform=ToTensor()\n",
    "    )\n",
    "\n",
    "test_data = datasets.CIFAR10(\n",
    "    root=\"data\",\n",
    "    train=False,\n",
    "    download=True,\n",
    "    transform=ToTensor())"
   ]
  },
  {
   "cell_type": "code",
   "execution_count": null,
   "metadata": {
    "colab": {
     "base_uri": "https://localhost:8080/"
    },
    "id": "2tBVD2VmbQ09",
    "outputId": "6ca31260-dfaf-460a-c0f0-ef5d1b1fa223"
   },
   "outputs": [
    {
     "data": {
      "text/plain": [
       "(50000, 3, 32, 32)"
      ]
     },
     "execution_count": 125,
     "metadata": {},
     "output_type": "execute_result"
    }
   ],
   "source": [
    "train_data.data.transpose(0, 3, 1, 2).shape"
   ]
  },
  {
   "cell_type": "code",
   "execution_count": null,
   "metadata": {
    "id": "SSV-lh1SDvP6"
   },
   "outputs": [],
   "source": [
    "import albumentations as A\n",
    "from torch.utils.data import TensorDataset, DataLoader"
   ]
  },
  {
   "cell_type": "code",
   "execution_count": null,
   "metadata": {
    "id": "T6dEQVVDEFqD"
   },
   "outputs": [],
   "source": [
    "def HorizontalFlip():\n",
    "    return A.Compose([\n",
    "        A.HorizontalFlip(p=1.0),\n",
    "    ])\n",
    "\n",
    "HorizontalFlip = HorizontalFlip()"
   ]
  },
  {
   "cell_type": "code",
   "execution_count": null,
   "metadata": {
    "colab": {
     "base_uri": "https://localhost:8080/",
     "height": 880
    },
    "id": "z4zz3twoJb5c",
    "outputId": "9e692192-351a-454a-9061-870aa2886c50"
   },
   "outputs": [
    {
     "name": "stdout",
     "output_type": "stream",
     "text": [
      "Shape of original image is: torch.Size([32, 32, 3])\n"
     ]
    },
    {
     "data": {
      "image/png": "[encoded data removed]",
      "text/plain": [
       "<Figure size 640x480 with 1 Axes>"
      ]
     },
     "metadata": {},
     "output_type": "display_data"
    },
    {
     "name": "stdout",
     "output_type": "stream",
     "text": [
      "Shape of augmented image is: (32, 32, 3)\n"
     ]
    },
    {
     "data": {
      "image/png": "[encoded data removed]",
      "text/plain": [
       "<Figure size 640x480 with 1 Axes>"
      ]
     },
     "metadata": {},
     "output_type": "display_data"
    }
   ],
   "source": [
    "for original_image, label in train_data:\n",
    "\n",
    "  original_image = original_image.permute(1, 2, 0)\n",
    "  print(f'Shape of original image is: {original_image.shape}')\n",
    "  plt.imshow(original_image)\n",
    "  plt.show()\n",
    "\n",
    "  augmented_image = HorizontalFlip(image=np.array(original_image))['image']\n",
    "  print(f'Shape of augmented image is: {augmented_image.shape}')\n",
    "  plt.imshow(augmented_image)\n",
    "  plt.show()\n",
    "\n",
    "  break"
   ]
  },
  {
   "cell_type": "code",
   "execution_count": null,
   "metadata": {
    "colab": {
     "base_uri": "https://localhost:8080/"
    },
    "id": "yQsT95z4QfEL",
    "outputId": "e4e6cdc7-071a-47ad-8f0b-6b3397fc2647"
   },
   "outputs": [
    {
     "name": "stderr",
     "output_type": "stream",
     "text": [
      "100%|██████████| 50000/50000 [00:15<00:00, 3145.74it/s]\n"
     ]
    },
    {
     "name": "stdout",
     "output_type": "stream",
     "text": [
      "Shapes before concatenation:\n",
      "Original data shape: (50000, 3, 32, 32)\n",
      "Augmented data shape: (50000, 3, 32, 32)\n"
     ]
    }
   ],
   "source": [
    "augmented_data = {\n",
    "    'images': [],\n",
    "    'labels': []\n",
    "}\n",
    "\n",
    "for original_image, label in tqdm(train_data):\n",
    "    original_np = original_image.numpy()\n",
    "\n",
    "    # Apply horizontal flip\n",
    "    augmented_image = HorizontalFlip(image=original_np)['image']\n",
    "    augmented_image = augmented_image.transpose(0,1,2)\n",
    "\n",
    "    augmented_data['images'].append(augmented_image)\n",
    "    augmented_data['labels'].append(label)\n",
    "\n",
    "# Convert to numpy arrays\n",
    "augmented_images = np.array(augmented_data['images'])  # Should be (N, 3, 32, 32)\n",
    "augmented_labels = np.array(augmented_data['labels'])\n",
    "\n",
    "# Now they should have matching dimensions for concatenation\n",
    "print(\"Shapes before concatenation:\")\n",
    "print(f\"Original data shape: {train_data.data.transpose(0, 3, 1, 2).data.shape}\")\n",
    "print(f\"Augmented data shape: {augmented_images.shape}\")\n",
    "\n",
    "train_images = np.concatenate((train_data.data.transpose(0, 3, 1, 2).data, augmented_images), axis=0)\n",
    "train_labels = np.concatenate((np.array(train_data.targets), augmented_labels), axis=0)"
   ]
  },
  {
   "cell_type": "code",
   "execution_count": null,
   "metadata": {
    "colab": {
     "base_uri": "https://localhost:8080/"
    },
    "id": "DJaOgr-IQe90",
    "outputId": "71d95d2e-741d-4329-bf7a-defa3a4cc2ae"
   },
   "outputs": [
    {
     "data": {
      "text/plain": [
       "100000"
      ]
     },
     "execution_count": 128,
     "metadata": {},
     "output_type": "execute_result"
    }
   ],
   "source": [
    "len(train_images)"
   ]
  },
  {
   "cell_type": "code",
   "execution_count": null,
   "metadata": {
    "id": "jQZcA0XsZ4pG"
   },
   "outputs": [],
   "source": [
    "train_data = TensorDataset(torch.tensor(train_images), torch.tensor(train_labels))\n",
    "train_dataloader = DataLoader(train_data, batch_size=32, shuffle=True)"
   ]
  },
  {
   "cell_type": "code",
   "execution_count": null,
   "metadata": {
    "colab": {
     "base_uri": "https://localhost:8080/"
    },
    "id": "i9lGbFWKaE50",
    "outputId": "201c86b8-0094-4c41-adf2-232bfc092939"
   },
   "outputs": [
    {
     "name": "stdout",
     "output_type": "stream",
     "text": [
      "Shape of the images: torch.Size([32, 3, 32, 32])\n",
      "Shape of the labels: torch.Size([32])\n"
     ]
    }
   ],
   "source": [
    "for image, label in train_dataloader:\n",
    "  print(f'Shape of the images: {image.shape}')\n",
    "  print(f'Shape of the labels: {label.shape}')\n",
    "  break"
   ]
  },
  {
   "cell_type": "code",
   "execution_count": null,
   "metadata": {
    "colab": {
     "base_uri": "https://localhost:8080/"
    },
    "id": "T7otoXL7Zz39",
    "outputId": "0c2078cb-8e8c-46e8-9a7b-33b32af3f478"
   },
   "outputs": [
    {
     "name": "stderr",
     "output_type": "stream",
     "text": [
      "Training Model:  28%|██▊       | 877/3125 [00:30<01:14, 30.18it/s]"
     ]
    }
   ],
   "source": [
    "losses = train_loop(train_dataloader, model, loss_fn, optimizer, epochs=1) # Lets take a few minute break while it trains and we will come back"
   ]
  },
  {
   "cell_type": "markdown",
   "metadata": {
    "id": "azRZOuPqNuWD"
   },
   "source": [
    "# Viola just like that, you have 50,000 more images to train your model on\n"
   ]
  },
  {
   "cell_type": "markdown",
   "metadata": {
    "id": "nv_E8f0DOC3r"
   },
   "source": []
  },
  {
   "cell_type": "markdown",
   "metadata": {
    "id": "4C84uJHmP7GK"
   },
   "source": [
    "# Saliency Maps"
   ]
  }
 ],
 "metadata": {
  "accelerator": "TPU",
  "colab": {
   "gpuType": "V28",
   "include_colab_link": true,
   "provenance": []
  },
  "kernelspec": {
   "display_name": "Python 3.8 - AzureML",
   "language": "python",
   "name": "python38-azureml"
  },
  "language_info": {
   "name": ""
  }
 },
 "nbformat": 4,
 "nbformat_minor": 4
}
