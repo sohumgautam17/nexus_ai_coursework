{
 "cells": [
  {
   "cell_type": "code",
   "execution_count": 185,
   "metadata": {},
   "outputs": [],
   "source": [
    "import torch\n",
    "import torch.nn as nn\n",
    "from torch.optim import Adam\n",
    "import random\n",
    "\n",
    "import numpy as np\n",
    "from torchsummary import summary\n"
   ]
  },
  {
   "cell_type": "code",
   "execution_count": 186,
   "metadata": {},
   "outputs": [],
   "source": [
    "train_data = []\n",
    "train_label = []\n",
    "for _ in range(50):\n",
    "    start = random.randint(0, 97)  # Random start to generate diverse sequences\n",
    "    seq = [start, start+1, start+2]\n",
    "    train_data.append(seq)\n",
    "    train_label.append(start+3)  # Next number in sequence"
   ]
  },
  {
   "cell_type": "code",
   "execution_count": 196,
   "metadata": {},
   "outputs": [
    {
     "name": "stdout",
     "output_type": "stream",
     "text": [
      "50\n",
      "50\n",
      "[96, 97, 98]\n",
      "99\n"
     ]
    }
   ],
   "source": [
    "print(len(train_data))\n",
    "print(len(train_label))\n",
    "print(train_data[1])\n",
    "print(train_label[1])"
   ]
  },
  {
   "cell_type": "code",
   "execution_count": 187,
   "metadata": {},
   "outputs": [],
   "source": [
    "# Convert to PyTorch tensors\n",
    "X = torch.FloatTensor(train_data).unsqueeze(-1)  # Shape: [50, 3, 1]\n",
    "y = torch.FloatTensor(train_label)\n",
    "\n",
    "# Simple RNN model\n",
    "class SimpleRNN(nn.Module):\n",
    "    def __init__(self):\n",
    "        super().__init__()\n",
    "        self.rnn = nn.RNN(input_size=1, hidden_size=16, batch_first=True)\n",
    "        self.linear = nn.Linear(16, 1)\n",
    "        \n",
    "    def forward(self, x):\n",
    "        output, _ = self.rnn(x)\n",
    "        return self.linear(output[:, -1, :]).squeeze()\n",
    "\n",
    "# Create and train model\n",
    "model = SimpleRNN()"
   ]
  },
  {
   "cell_type": "code",
   "execution_count": 188,
   "metadata": {},
   "outputs": [],
   "source": [
    "loss_fn = nn.MSELoss()\n",
    "optimizer = Adam(model.parameters(), lr=0.01)"
   ]
  },
  {
   "cell_type": "code",
   "execution_count": 189,
   "metadata": {},
   "outputs": [
    {
     "name": "stdout",
     "output_type": "stream",
     "text": [
      "Epoch: 0 | Loss: 3660.5479\n",
      "Epoch: 50 | Loss: 2864.2576\n",
      "Epoch: 100 | Loss: 2230.7095\n",
      "Epoch: 150 | Loss: 1732.7688\n",
      "Epoch: 200 | Loss: 1344.2004\n",
      "Epoch: 250 | Loss: 1040.6659\n",
      "Epoch: 300 | Loss: 805.0283\n",
      "Epoch: 350 | Loss: 621.6252\n",
      "Epoch: 400 | Loss: 480.4293\n",
      "Epoch: 450 | Loss: 373.4489\n"
     ]
    }
   ],
   "source": [
    "# Train\n",
    "for epoch in range(500):\n",
    "    model.train()\n",
    "    optimizer.zero_grad()\n",
    "    \n",
    "    prediction = model(X)\n",
    "    loss = loss_fn(prediction, y)\n",
    "    \n",
    "    loss.backward()\n",
    "    optimizer.step()\n",
    "    \n",
    "    if epoch % 50 == 0:\n",
    "        print(f'Epoch: {epoch} | Loss: {loss.item():.4f}')"
   ]
  },
  {
   "cell_type": "code",
   "execution_count": 190,
   "metadata": {},
   "outputs": [
    {
     "name": "stdout",
     "output_type": "stream",
     "text": [
      "\n",
      "Sequence [7, 8, 9] -> Predicted: 10.0128, Expected: 10\n",
      "\n",
      "Sequence [11, 12, 13] -> Predicted: 13.9411, Expected: 14\n",
      "\n",
      "Sequence [20, 21, 22] -> Predicted: 22.9613, Expected: 23\n"
     ]
    }
   ],
   "source": [
    "# Test several sequences\n",
    "test_sequences = [\n",
    "    [7,8,9],\n",
    "    [11,12,13],\n",
    "    [20,21,22]\n",
    "]\n",
    "\n",
    "model.eval()\n",
    "with torch.no_grad():\n",
    "    for seq in test_sequences:\n",
    "        test_input = torch.FloatTensor(seq).reshape(1, 3, 1)\n",
    "        pred = model(test_input)\n",
    "        print(f'\\nSequence {seq} -> Predicted: {pred.item():.4f}, Expected: {seq[-1]+1}')"
   ]
  },
  {
   "cell_type": "code",
   "execution_count": null,
   "metadata": {},
   "outputs": [],
   "source": []
  },
  {
   "cell_type": "code",
   "execution_count": null,
   "metadata": {},
   "outputs": [],
   "source": []
  },
  {
   "cell_type": "code",
   "execution_count": null,
   "metadata": {},
   "outputs": [],
   "source": []
  },
  {
   "cell_type": "code",
   "execution_count": null,
   "metadata": {},
   "outputs": [],
   "source": []
  },
  {
   "cell_type": "code",
   "execution_count": null,
   "metadata": {},
   "outputs": [],
   "source": []
  },
  {
   "cell_type": "code",
   "execution_count": null,
   "metadata": {},
   "outputs": [],
   "source": []
  },
  {
   "cell_type": "code",
   "execution_count": null,
   "metadata": {},
   "outputs": [],
   "source": []
  },
  {
   "cell_type": "code",
   "execution_count": null,
   "metadata": {},
   "outputs": [],
   "source": []
  },
  {
   "cell_type": "code",
   "execution_count": null,
   "metadata": {},
   "outputs": [],
   "source": []
  },
  {
   "cell_type": "code",
   "execution_count": null,
   "metadata": {},
   "outputs": [],
   "source": []
  }
 ],
 "metadata": {
  "kernelspec": {
   "display_name": "Python 3.8 - AzureML",
   "language": "python",
   "name": "python38-azureml"
  },
  "language_info": {
   "codemirror_mode": {
    "name": "ipython",
    "version": 3
   },
   "file_extension": ".py",
   "mimetype": "text/x-python",
   "name": "python",
   "nbconvert_exporter": "python",
   "pygments_lexer": "ipython3",
   "version": "3.10.11"
  }
 },
 "nbformat": 4,
 "nbformat_minor": 2
}
